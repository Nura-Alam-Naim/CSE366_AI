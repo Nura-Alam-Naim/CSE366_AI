{
 "cells": [
  {
   "cell_type": "code",
   "execution_count": 5,
   "metadata": {
    "execution": {
     "iopub.execute_input": "2025-07-11T14:40:33.633113Z",
     "iopub.status.busy": "2025-07-11T14:40:33.632379Z",
     "iopub.status.idle": "2025-07-11T14:40:37.955687Z",
     "shell.execute_reply": "2025-07-11T14:40:37.955004Z",
     "shell.execute_reply.started": "2025-07-11T14:40:33.633087Z"
    },
    "executionInfo": {
     "elapsed": 6705,
     "status": "ok",
     "timestamp": 1716718913876,
     "user": {
      "displayName": "Beautiful Mind",
      "userId": "18088270031962857328"
     },
     "user_tz": -360
    },
    "id": "dy2_B330BNLz",
    "outputId": "db790309-debe-4294-f641-3d957fa8b00e",
    "papermill": {
     "duration": 3.964893,
     "end_time": "2025-05-01T13:56:19.540216",
     "exception": false,
     "start_time": "2025-05-01T13:56:15.575323",
     "status": "completed"
    },
    "tags": [],
    "trusted": true
   },
   "outputs": [
    {
     "name": "stdout",
     "output_type": "stream",
     "text": [
      "Requirement already satisfied: torchinfo in /usr/local/lib/python3.11/dist-packages (1.8.0)\n"
     ]
    }
   ],
   "source": [
    "!pip install torchinfo"
   ]
  },
  {
   "cell_type": "markdown",
   "metadata": {
    "id": "2834ab4a",
    "papermill": {
     "duration": 0.004532,
     "end_time": "2025-05-01T13:56:19.549980",
     "exception": false,
     "start_time": "2025-05-01T13:56:19.545448",
     "status": "completed"
    },
    "tags": []
   },
   "source": [
    "### Import Libraries"
   ]
  },
  {
   "cell_type": "code",
   "execution_count": 6,
   "metadata": {
    "execution": {
     "iopub.execute_input": "2025-07-11T14:40:40.106736Z",
     "iopub.status.busy": "2025-07-11T14:40:40.106064Z",
     "iopub.status.idle": "2025-07-11T14:40:54.464179Z",
     "shell.execute_reply": "2025-07-11T14:40:54.463471Z",
     "shell.execute_reply.started": "2025-07-11T14:40:40.106690Z"
    },
    "executionInfo": {
     "elapsed": 8211,
     "status": "ok",
     "timestamp": 1716718955598,
     "user": {
      "displayName": "Beautiful Mind",
      "userId": "18088270031962857328"
     },
     "user_tz": -360
    },
    "id": "038533d3",
    "papermill": {
     "duration": 12.755696,
     "end_time": "2025-05-01T13:56:32.310311",
     "exception": false,
     "start_time": "2025-05-01T13:56:19.554615",
     "status": "completed"
    },
    "tags": [],
    "trusted": true
   },
   "outputs": [],
   "source": [
    "import time\n",
    "import os\n",
    "import pandas as pd\n",
    "from sklearn.model_selection import train_test_split\n",
    "from torchvision import datasets, transforms\n",
    "from torch.utils.data import DataLoader\n",
    "from sklearn.metrics import classification_report\n",
    "import numpy as np\n",
    "import cv2\n",
    "import torch\n",
    "from torch import nn\n",
    "import torch.nn.functional as F\n",
    "from torch.utils.data import DataLoader, Dataset\n",
    "import torchvision\n",
    "from torchvision import transforms\n",
    "from torchinfo import summary\n",
    "import torchvision.models as models\n",
    "import torch.optim as optim\n",
    "from torch.optim.lr_scheduler import StepLR\n",
    "from tqdm.notebook import tqdm\n",
    "from sklearn.metrics import accuracy_score\n",
    "import PIL\n",
    "import matplotlib.pyplot as plt\n",
    "import seaborn as sns\n",
    "import time\n",
    "from collections import OrderedDict\n",
    "import platform\n",
    "import psutil\n",
    "import random\n",
    "import glob\n",
    "from tqdm import tqdm\n",
    "from PIL import Image\n",
    "from torchvision import transforms\n",
    "from torchvision.transforms import ColorJitter, RandomRotation, RandomResizedCrop\n",
    "from torchvision.transforms.functional import gaussian_blur\n",
    "from PIL import ImageOps\n",
    "from tabulate import tabulate"
   ]
  },
  {
   "cell_type": "markdown",
   "metadata": {},
   "source": [
    "### Configuration"
   ]
  },
  {
   "cell_type": "code",
   "execution_count": null,
   "metadata": {},
   "outputs": [
    {
     "name": "stdout",
     "output_type": "stream",
     "text": [
      "CPU: x86_64\n",
      "Total RAM (GB): 31.35\n",
      "GPU: Tesla P100-PCIE-16GB\n"
     ]
    }
   ],
   "source": [
    "cpu_info = platform.processor()\n",
    "\n",
    "ram_info = psutil.virtual_memory()\n",
    "total_ram_gb = ram_info.total / (1024 ** 3)\n",
    "\n",
    "try:\n",
    "    gpu_info = !nvidia-smi --query-gpu=gpu_name --format=csv\n",
    "    gpu_name = gpu_info[1]\n",
    "except:\n",
    "    gpu_name = \"No GPU available\"\n",
    "\n",
    "print(\"CPU:\", cpu_info)\n",
    "print(\"Total RAM (GB):\", round(total_ram_gb, 2))\n",
    "print(\"GPU:\", gpu_name)"
   ]
  },
  {
   "cell_type": "code",
   "execution_count": null,
   "metadata": {},
   "outputs": [],
   "source": [
    "seed = 1\n",
    "torch.manual_seed(seed)\n",
    "torch.cuda.manual_seed(seed)\n",
    "np.random.seed(seed)\n",
    "random.seed(seed)"
   ]
  },
  {
   "cell_type": "markdown",
   "metadata": {},
   "source": [
    "### Loading Dataset"
   ]
  },
  {
   "cell_type": "code",
   "execution_count": null,
   "metadata": {},
   "outputs": [],
   "source": [
    "data_dir = \"/kaggle/input/brain-tumor-mri-images-44c\"\n",
    "\n",
    "file_paths = []\n",
    "labels = []\n",
    "\n",
    "for class_name in os.listdir(data_dir):\n",
    "    class_dir = os.path.join(data_dir, class_name)\n",
    "    for image_name in os.listdir(class_dir):\n",
    "        file_paths.append(os.path.join(class_dir, image_name))\n",
    "        labels.append(class_name)\n",
    "\n",
    "df = pd.DataFrame({\"file_path\": file_paths, \"label\": labels})\n",
    "df = df.sample(frac=1).reset_index(drop=True)"
   ]
  },
  {
   "cell_type": "code",
   "execution_count": null,
   "metadata": {},
   "outputs": [
    {
     "name": "stdout",
     "output_type": "stream",
     "text": [
      "Class: Meningioma T1C+, Count: 369\n",
      "Class: Meningioma T1, Count: 272\n",
      "Class: _NORMAL T2, Count: 271\n",
      "Class: _NORMAL T1, Count: 251\n",
      "Class: Meningioma T2, Count: 233\n",
      "Class: Astrocitoma T1C+, Count: 233\n",
      "Class: Neurocitoma T1C+, Count: 223\n",
      "Class: Schwannoma T1C+, Count: 194\n",
      "Class: Astrocitoma T1, Count: 176\n",
      "Class: Astrocitoma T2, Count: 171\n",
      "Class: Schwannoma T1, Count: 148\n",
      "Class: Neurocitoma T1, Count: 130\n",
      "Class: Schwannoma T2, Count: 123\n",
      "Class: Carcinoma T1C+, Count: 112\n",
      "Class: Papiloma T1C+, Count: 108\n",
      "Class: Neurocitoma T2, Count: 104\n",
      "Class: Glioblastoma T1C+, Count: 94\n",
      "Class: Oligodendroglioma T1, Count: 86\n",
      "Class: Tuberculoma T1C+, Count: 84\n",
      "Class: Carcinoma T2, Count: 73\n",
      "Class: Oligodendroglioma T1C+, Count: 72\n",
      "Class: Meduloblastoma T1C+, Count: 67\n",
      "Class: Oligodendroglioma T2, Count: 66\n",
      "Class: Carcinoma T1, Count: 66\n",
      "Class: Papiloma T1, Count: 66\n",
      "Class: Papiloma T2, Count: 63\n",
      "Class: Ependimoma T2, Count: 57\n",
      "Class: Glioblastoma T1, Count: 55\n",
      "Class: Glioblastoma T2, Count: 55\n",
      "Class: Ependimoma T1C+, Count: 48\n",
      "Class: Ependimoma T1, Count: 45\n",
      "Class: Meduloblastoma T2, Count: 41\n",
      "Class: Germinoma T1C+, Count: 40\n",
      "Class: Germinoma T2, Count: 33\n",
      "Class: Tuberculoma T2, Count: 33\n",
      "Class: Granuloma T1C+, Count: 31\n",
      "Class: Granuloma T1, Count: 30\n",
      "Class: Tuberculoma T1, Count: 28\n",
      "Class: Germinoma T1, Count: 27\n",
      "Class: Meduloblastoma T1, Count: 23\n",
      "Class: Ganglioglioma T2, Count: 23\n",
      "Class: Ganglioglioma T1, Count: 20\n",
      "Class: Ganglioglioma T1C+, Count: 18\n",
      "Class: Granuloma T2, Count: 17\n"
     ]
    },
    {
     "data": {
      "image/png": "[encoded data removed]",
      "text/plain": [
       "<Figure size 600x400 with 1 Axes>"
      ]
     },
     "metadata": {},
     "output_type": "display_data"
    }
   ],
   "source": [
    "class_counts_train = df['label'].value_counts()\n",
    "\n",
    "for class_name, count in class_counts_train.items():\n",
    "    print(f\"Class: {class_name}, Count: {count}\")\n",
    "\n",
    "plt.figure(figsize=(6, 4))\n",
    "ax = class_counts_train.plot(kind='bar')\n",
    "plt.xlabel('Classes')\n",
    "plt.ylabel('Amount of data')\n",
    "plt.xticks(rotation=360)\n",
    "for i, count in enumerate(class_counts_train):\n",
    "    ax.text(i, count + 5, str(count), ha='center')\n",
    "plt.ylim(0, max(class_counts_train) * 1.2)\n",
    "plt.show()"
   ]
  }
 ],
 "metadata": {
  "accelerator": "GPU",
  "colab": {
   "gpuType": "T4",
   "provenance": []
  },
  "kaggle": {
   "accelerator": "gpu",
   "dataSources": [
    {
     "datasetId": 2892866,
     "sourceId": 4987732,
     "sourceType": "datasetVersion"
    }
   ],
   "dockerImageVersionId": 31090,
   "isGpuEnabled": true,
   "isInternetEnabled": true,
   "language": "python",
   "sourceType": "notebook"
  },
  "kernelspec": {
   "display_name": "Python 3",
   "language": "python",
   "name": "python3"
  },
  "language_info": {
   "codemirror_mode": {
    "name": "ipython",
    "version": 3
   },
   "file_extension": ".py",
   "mimetype": "text/x-python",
   "name": "python",
   "nbconvert_exporter": "python",
   "pygments_lexer": "ipython3",
   "version": "3.11.13"
  },
  "papermill": {
   "default_parameters": {},
   "duration": 634.762979,
   "end_time": "2025-05-01T14:06:45.978290",
   "environment_variables": {},
   "exception": null,
   "input_path": "__notebook__.ipynb",
   "output_path": "__notebook__.ipynb",
   "parameters": {},
   "start_time": "2025-05-01T13:56:11.215311",
   "version": "2.6.0"
  }
 },
 "nbformat": 4,
 "nbformat_minor": 4
}
